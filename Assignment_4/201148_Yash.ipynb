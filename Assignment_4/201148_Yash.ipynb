{
 "cells": [
  {
   "cell_type": "markdown",
   "id": "fd8222eb",
   "metadata": {},
   "source": [
    "# Q1 Which is a better Estimator"
   ]
  },
  {
   "cell_type": "markdown",
   "id": "789f4e42",
   "metadata": {},
   "source": [
    "MCMC is one of estimator under Monte Carlo Simulations but it is not certainly the best.<br>\n",
    "As we move towards a more stationary Distribution, we take more number of iterations to reach convergence.<br>\n",
    "var($X_t(from MCMC)$) = Var(X) + 2 $\\sum_{t=1}^{\\infty}cov(X_0,X_t)$<br>\n",
    "This will be abviously more than that of normal iid sample.<br>\n",
    "Hence, it is not a better sampler.\n"
   ]
  },
  {
   "cell_type": "markdown",
   "id": "0afe9e22",
   "metadata": {},
   "source": [
    "# Q2. "
   ]
  },
  {
   "cell_type": "markdown",
   "id": "f645040e",
   "metadata": {},
   "source": [
    "f(y|$\\mu$) = N($\\mu$,1)<br>\n",
    "f($\\mu$|$\\nu$) = $t_{\\nu}$<br>\n",
    "f($\\nu$) = Truncated Gamma $(a_0, b_0, (2, \\infty ) )$<br><br>\n",
    "Joint Distribution $(\\mu, \\nu):f(\\mu, \\nu | y)$<br>\n",
    "f($\\mu, \\nu$ | y) $\\propto$ f(y|$\\mu$) f($\\mu$|$\\nu$) f($\\nu$)<br>\n",
    "f($\\mu, \\nu$ | y) $\\propto$ $\\nu^{a_0-1}e^{(\\frac{-\\sum_i(y_i-\\mu)^2}{2}-\\frac{\\nu}{b_0})}(1+\\frac{\\mu^2}{\\nu})^{-\\frac{\\nu+1}{2}}I(2 < \\nu < \\infty)$"
   ]
  },
  {
   "cell_type": "markdown",
   "id": "2bf2ef6d",
   "metadata": {},
   "source": [
    "## MH Algorithm:<br>\n",
    "1. Set initial value of $\\mu, \\nu$ from the above data.\n",
    "2. Draw a random sample from gaussian proposal for k and random proposal for l\n",
    "3. Calculate MH Ratio $\\alpha$\n",
    "4. Compare the ratio with Uniformly sampled value between 0 and 1. If U < $\\alpha$, then update the value with k, l\n",
    "5. Else update the sample values."
   ]
  },
  {
   "cell_type": "code",
   "execution_count": 1,
   "id": "e5348f3e",
   "metadata": {},
   "outputs": [],
   "source": [
    "using Random\n",
    "using QuadGK\n",
    "using Distributions\n",
    "using Plots\n",
    "using StatsPlots\n",
    "using StatsBase"
   ]
  },
  {
   "cell_type": "code",
   "execution_count": 2,
   "id": "3e62b7e4",
   "metadata": {},
   "outputs": [
    {
     "name": "stdout",
     "output_type": "stream",
     "text": [
      "Prior u which is unknown = u = -2.0805633543276767\n",
      "Prior v which is unknown = v = 2.085597629881367\n"
     ]
    }
   ],
   "source": [
    "\n",
    "a = 2\n",
    "b = 0.1\n",
    "n = 100\n",
    "v = rand(Truncated(Gamma(a,b),2,Inf))\n",
    "u = rand(TDist(v))\n",
    "Y = rand(Normal(u,1),n)\n",
    "println(\"Prior u which is unknown = u = \",u)\n",
    "println(\"Prior v which is unknown = v = \",v)"
   ]
  },
  {
   "cell_type": "code",
   "execution_count": 3,
   "id": "51cb56a7",
   "metadata": {},
   "outputs": [
    {
     "name": "stdout",
     "output_type": "stream",
     "text": [
      "Estimated u = -2.0558629631955583\n",
      "Estimated v = 2.0030541089576515\n",
      "Acceptance Ratio:0.1258\n"
     ]
    }
   ],
   "source": [
    "f(r,t) = exp(-0.5*sum((Y.-r).^2))*((1+(r*r)/t)^(-0.5*(t+1)))*((t)^(a-1))*exp(-1.0*t*b);\n",
    "u = mean(Y);\n",
    "v = a/b;\n",
    "# println(v)\n",
    "Udata = [u];\n",
    "Vdat = [v];\n",
    "count=0;\n",
    "iterations = 10000;\n",
    "for t=0:iterations\n",
    "    k = rand(Normal(u,1))\n",
    "    l = rand(Uniform(2,v+0.01))\n",
    "    alpha = min(1,(1.0*f(k,l))/f(u,v))\n",
    "    U = rand()\n",
    "    if U<alpha\n",
    "        u = k\n",
    "        v = l\n",
    "        count = count+1\n",
    "    end\n",
    "    # println(u, \" \", v)\n",
    "    push!(Udata,u)\n",
    "    push!(Vdat,v)\n",
    "end\n",
    "println(\"Estimated u = \",u)\n",
    "println(\"Estimated v = \",v)\n",
    "println(\"Acceptance Ratio:\", count/iterations)\n",
    "\n",
    "\n"
   ]
  },
  {
   "cell_type": "code",
   "execution_count": 4,
   "id": "1adeb3db",
   "metadata": {},
   "outputs": [],
   "source": [
    "plot(Udata, title=\"Trace Plot\")"
   ]
  },
  {
   "cell_type": "code",
   "execution_count": null,
   "id": "9f7c2cec",
   "metadata": {},
   "outputs": [],
   "source": [
    "plot(autocor(Udata), title=\"ACF Plot\")"
   ]
  },
  {
   "cell_type": "markdown",
   "id": "2f2688d9",
   "metadata": {},
   "source": [
    "# Q3 "
   ]
  },
  {
   "cell_type": "markdown",
   "id": "205c8d56",
   "metadata": {},
   "source": [
    "f(y|$\\beta, \\sigma ^2$) = N($X\\beta$,$\\sigma ^2I_n$) $\\propto (\\sigma^2)^{-\\frac{n}{2}}e^{\\frac{(Y-X\\beta)^T(Y-X\\beta)}{2\\sigma^2}}$\n",
    "<br>\n",
    "f($\\beta$|$\\sigma ^2$) = $N_{p}(\\mu, \\sigma ^2)$ $\\propto (\\sigma^2)^{-\\frac{p}{2}}e^{\\frac{(\\beta-\\mu)^T(\\beta-\\mu)}{2\\sigma^2}}$<br>\n",
    "f($\\sigma ^2$) = Inverse Gamma $(a,b)$ $\\propto (\\sigma^2)^{a+1}e^{\\frac{-\\beta}{\\sigma^2}}$<br><br>\n",
    "Joint Distribution $(\\mu, \\nu):f(\\mu, \\nu | y)$<br>\n",
    "f($\\beta, \\sigma ^2$ | y) $\\propto$ f(y|$\\beta, \\sigma ^2$) f($\\beta$|$\\sigma ^2$) f($\\sigma ^2$)<br>"
   ]
  },
  {
   "cell_type": "code",
   "execution_count": 2,
   "id": "170ba24a",
   "metadata": {},
   "outputs": [],
   "source": [
    "using CSV\n",
    "using Tables\n",
    "using LinearAlgebra\n",
    "data = CSV.File(\"./Boston.csv\") |> Tables.matrix;"
   ]
  },
  {
   "cell_type": "code",
   "execution_count": 65,
   "id": "a0d8a873",
   "metadata": {},
   "outputs": [
    {
     "data": {
      "text/plain": [
       "506×13 Matrix{Float64}:\n",
       " 0.00632  18.0   2.31  0.538  6.575  …  296.0  15.3  396.9    4.98  24.0\n",
       " 0.02731   0.0   7.07  0.469  6.421     242.0  17.8  396.9    9.14  21.6\n",
       " 0.02729   0.0   7.07  0.469  7.185     242.0  17.8  392.83   4.03  34.7\n",
       " 0.03237   0.0   2.18  0.458  6.998     222.0  18.7  394.63   2.94  33.4\n",
       " 0.06905   0.0   2.18  0.458  7.147     222.0  18.7  396.9    5.33  36.2\n",
       " 0.02985   0.0   2.18  0.458  6.43   …  222.0  18.7  394.12   5.21  28.7\n",
       " 0.08829  12.5   7.87  0.524  6.012     311.0  15.2  395.6   12.43  22.9\n",
       " 0.14455  12.5   7.87  0.524  6.172     311.0  15.2  396.9   19.15  27.1\n",
       " 0.21124  12.5   7.87  0.524  5.631     311.0  15.2  386.63  29.93  16.5\n",
       " 0.17004  12.5   7.87  0.524  6.004     311.0  15.2  386.71  17.1   18.9\n",
       " ⋮                                   ⋱                 ⋮            \n",
       " 0.26838   0.0   9.69  0.585  5.794     391.0  19.2  396.9   14.1   18.3\n",
       " 0.23912   0.0   9.69  0.585  6.019     391.0  19.2  396.9   12.92  21.2\n",
       " 0.17783   0.0   9.69  0.585  5.569     391.0  19.2  395.77  15.1   17.5\n",
       " 0.22438   0.0   9.69  0.585  6.027  …  391.0  19.2  396.9   14.33  16.8\n",
       " 0.06263   0.0  11.93  0.573  6.593     273.0  21.0  391.99   9.67  22.4\n",
       " 0.04527   0.0  11.93  0.573  6.12      273.0  21.0  396.9    9.08  20.6\n",
       " 0.06076   0.0  11.93  0.573  6.976     273.0  21.0  396.9    5.64  23.9\n",
       " 0.10959   0.0  11.93  0.573  6.794     273.0  21.0  393.45   6.48  22.0\n",
       " 0.04741   0.0  11.93  0.573  6.03   …  273.0  21.0  396.9    7.88  11.9"
      ]
     },
     "metadata": {},
     "output_type": "display_data"
    }
   ],
   "source": [
    "data"
   ]
  },
  {
   "cell_type": "code",
   "execution_count": 3,
   "id": "58a5bb85",
   "metadata": {},
   "outputs": [
    {
     "data": {
      "text/plain": [
       "1"
      ]
     },
     "metadata": {},
     "output_type": "display_data"
    }
   ],
   "source": [
    "n = 100\n",
    "p = 12\n",
    "a = 2\n",
    "b = 1\n",
    "mu = 1"
   ]
  },
  {
   "cell_type": "code",
   "execution_count": 4,
   "id": "286d8b95",
   "metadata": {},
   "outputs": [
    {
     "data": {
      "text/plain": [
       "100×13 Matrix{Float64}:\n",
       " 0.000223084  0.0145337  0.00346394  …  0.010301    0.00462271  0.010758\n",
       " 0.000963993  0.0        0.0106018      0.010301    0.00848425  0.00968219\n",
       " 0.000963287  0.0        0.0106018      0.0101954   0.00374087  0.0155543\n",
       " 0.0011426    0.0        0.003269       0.0102421   0.00272907  0.0149715\n",
       " 0.00243734   0.0        0.003269       0.010301    0.0049476   0.0162266\n",
       " 0.00105365   0.0        0.003269    …  0.0102289   0.00483621  0.0128648\n",
       " 0.00311648   0.0100929  0.0118014      0.0102673   0.0115382   0.0102649\n",
       " 0.00510235   0.0100929  0.0118014      0.010301    0.0177761   0.0121476\n",
       " 0.00745639   0.0100929  0.0118014      0.0100345   0.0277827   0.00739612\n",
       " 0.0060021    0.0100929  0.0118014      0.0100366   0.0158732   0.00847192\n",
       " ⋮                                   ⋱  ⋮                       \n",
       " 0.00138792   0.0        0.00511344     0.0102141   0.00761169  0.00986149\n",
       " 0.00148358   0.022608   0.0225531      0.010252    0.00757456  0.0102649\n",
       " 0.00101482   0.022608   0.0225531      0.0102862   0.00576446  0.0112062\n",
       " 0.0015157    0.022608   0.0225531      0.010301    0.00983022  0.00923394\n",
       " 0.00430779   0.0        0.00433368  …  0.00929091  0.0061729   0.0127303\n",
       " 0.0040607    0.0        0.00433368     0.0101694   0.0105264   0.00959254\n",
       " 0.00426508   0.0        0.00433368     0.010301    0.00390795  0.0173473\n",
       " 0.00288986   0.0        0.00433368     0.0102136   0.00331387  0.0196333\n",
       " 0.00242145   0.0        0.00433368     0.010301    0.0057459   0.0148819"
      ]
     },
     "metadata": {},
     "output_type": "display_data"
    }
   ],
   "source": [
    "X = data[1:100,1:12]\n",
    "#Scaling the features before performing Linear Regression\n",
    "X = X./transpose(sum(eachrow(X)))\n",
    "\n",
    "Y = data[1:100,13]\n",
    "# #Scaling the MedV before performing Linear Regression\n",
    "Y = Y./sum(Y);\n",
    "# # # X\n",
    "data = data[1:100,1:13]\n",
    "data = data./transpose(sum(eachrow(data)))"
   ]
  },
  {
   "cell_type": "code",
   "execution_count": 5,
   "id": "91ac0e47",
   "metadata": {},
   "outputs": [],
   "source": [
    "using GLM\n",
    "using DataFrames"
   ]
  },
  {
   "cell_type": "code",
   "execution_count": 6,
   "id": "064e3187",
   "metadata": {},
   "outputs": [
    {
     "data": {
      "text/plain": [
       "12-element Vector{Float64}:\n",
       " -0.016990541778935327\n",
       " -0.04388686870531424\n",
       "  0.0029879928614835465\n",
       " -0.050452267880132816\n",
       "  0.4545545791711741\n",
       "  2.4008056743086637\n",
       " -0.1997965028404978\n",
       "  0.0017699280955616463\n",
       " -0.02483421697028736\n",
       " -0.09901025590591746\n",
       "  0.1294838720380101\n",
       "  0.11476602046567297"
      ]
     },
     "metadata": {},
     "output_type": "display_data"
    }
   ],
   "source": [
    "data=DataFrame(data,:auto)\n",
    "fm=@formula(x13~x1+x2+x3+x4+x5+x6+x7+x8+x9+x10+x11+x12)\n",
    "linearRegressor=lm(fm,data)\n",
    "weights=coef(linearRegressor)[1:12]"
   ]
  },
  {
   "cell_type": "code",
   "execution_count": 36,
   "id": "789ae783",
   "metadata": {},
   "outputs": [
    {
     "data": {
      "text/plain": [
       "100-element Vector{Float64}:\n",
       " 0.030639706560884408\n",
       " 0.03711799879506347\n",
       " 0.029520044842587717\n",
       " 0.022281828032020497\n",
       " 0.026215782586249733\n",
       " 0.027614973157652503\n",
       " 0.031244487451577846\n",
       " 0.044487607223398326\n",
       " 0.04678078146153626\n",
       " 0.03949628832024575\n",
       " ⋮\n",
       " 0.035515513255235484\n",
       " 0.02573056727982535\n",
       " 0.014824976901319604\n",
       " 0.035989206484874345\n",
       " 0.028343717372071312\n",
       " 0.03366063788242971\n",
       " 0.037035791630793145\n",
       " 0.020110430502905813\n",
       " 0.031040214469680034"
      ]
     },
     "metadata": {},
     "output_type": "display_data"
    }
   ],
   "source": [
    "X*weights"
   ]
  },
  {
   "cell_type": "code",
   "execution_count": 7,
   "id": "828d6d8d",
   "metadata": {},
   "outputs": [
    {
     "data": {
      "text/plain": [
       "f (generic function with 1 method)"
      ]
     },
     "metadata": {},
     "output_type": "display_data"
    }
   ],
   "source": [
    "# sigma = rand(InverseGamma(a,b))\n",
    "# mu = rand(p)\n",
    "# beta = rand(MvNormal(mu,sigma*Matrix(I,p,p)))\n",
    "#SIGMA = σ^2\n",
    "f(BETA, SIGMA) = (abs(SIGMA)^(-n/2-p/2+a+1))*exp.(-sum(transpose(Y.-X*BETA)*(Y.-X*BETA))/(2*SIGMA))*exp.(-sum(transpose(BETA.-mu)*(BETA.-mu))/(2*SIGMA))*exp(-b/SIGMA)"
   ]
  },
  {
   "cell_type": "code",
   "execution_count": 80,
   "id": "74875591",
   "metadata": {},
   "outputs": [
    {
     "data": {
      "text/plain": [
       "0.8"
      ]
     },
     "metadata": {},
     "output_type": "display_data"
    }
   ],
   "source": [
    "h=0.8"
   ]
  },
  {
   "cell_type": "code",
   "execution_count": 8,
   "id": "00b9ef3b",
   "metadata": {},
   "outputs": [
    {
     "name": "stdout",
     "output_type": "stream",
     "text": [
      "[0.593300896627859, 0.7758594874826659, 1.1604918735438645, 0.1379523121897176, -0.4109366493775403, 2.846396877087303, 2.0160738611792715, -1.0815539401096679, 1.0174313683986127, -0.487123219596633, 0.3907469379220393, 1.4367330456926641]\n"
     ]
    }
   ],
   "source": [
    "BETA = weights\n",
    "SIGMA = 0.8\n",
    "ans = [weights]\n",
    "iterations = 10000\n",
    "count=0\n",
    "for i=0:iterations\n",
    "    β = rand(MvNormal(BETA,SIGMA*Matrix(I,p,p)))\n",
    "    # x = rand(Normal(SIGMA,1))\n",
    "    alpha = min(1,f(β,SIGMA)/f(BETA,SIGMA))\n",
    "    # println(alpha)\n",
    "    U = rand()\n",
    "    # print(count)\n",
    "    if U<alpha\n",
    "        count = count+1\n",
    "        # print(count)\n",
    "        BETA = β\n",
    "        # SIGMA = x\n",
    "    end\n",
    "    push!(ans,BETA)\n",
    "end\n",
    "println(BETA)\n",
    "# println(SIGMA)"
   ]
  },
  {
   "cell_type": "code",
   "execution_count": 10,
   "id": "520c18bf",
   "metadata": {},
   "outputs": [
    {
     "ename": "BoundsError",
     "evalue": "BoundsError: attempt to access 10002-element Vector{Vector{Float64}} at index [1:10002, 2]",
     "output_type": "error",
     "traceback": [
      "BoundsError: attempt to access 10002-element Vector{Vector{Float64}} at index [1:10002, 2]\n",
      "\n",
      "Stacktrace:\n",
      "  [1] throw_boundserror(A::Vector{Vector{Float64}}, I::Tuple{Base.Slice{Base.OneTo{Int64}}, Int64})\n",
      "    @ Base .\\abstractarray.jl:691\n",
      "  [2] checkbounds\n",
      "    @ .\\abstractarray.jl:656 [inlined]\n",
      "  [3] _getindex\n",
      "    @ .\\multidimensional.jl:838 [inlined]\n",
      "  [4] getindex(::Vector{Vector{Float64}}, ::Function, ::Int64)\n",
      "    @ Base .\\abstractarray.jl:1218\n",
      "  [5] top-level scope\n",
      "    @ e:\\MCMC\\Assignment 4\\201148_Yash.ipynb:6\n",
      "  [6] eval\n",
      "    @ .\\boot.jl:373 [inlined]\n",
      "  [7] include_string(mapexpr::typeof(REPL.softscope), mod::Module, code::String, filename::String)\n",
      "    @ Base .\\loading.jl:1196\n",
      "  [8] #invokelatest#2\n",
      "    @ .\\essentials.jl:716 [inlined]\n",
      "  [9] invokelatest\n",
      "    @ .\\essentials.jl:714 [inlined]\n",
      " [10] (::VSCodeServer.var\"#164#165\"{VSCodeServer.NotebookRunCellArguments, String})()\n",
      "    @ VSCodeServer c:\\Users\\YASH RAJ\\.vscode\\extensions\\julialang.language-julia-1.6.17\\scripts\\packages\\VSCodeServer\\src\\serve_notebook.jl:19\n",
      " [11] withpath(f::VSCodeServer.var\"#164#165\"{VSCodeServer.NotebookRunCellArguments, String}, path::String)\n",
      "    @ VSCodeServer c:\\Users\\YASH RAJ\\.vscode\\extensions\\julialang.language-julia-1.6.17\\scripts\\packages\\VSCodeServer\\src\\repl.jl:184\n",
      " [12] notebook_runcell_request(conn::VSCodeServer.JSONRPC.JSONRPCEndpoint{Base.PipeEndpoint, Base.PipeEndpoint}, params::VSCodeServer.NotebookRunCellArguments)\n",
      "    @ VSCodeServer c:\\Users\\YASH RAJ\\.vscode\\extensions\\julialang.language-julia-1.6.17\\scripts\\packages\\VSCodeServer\\src\\serve_notebook.jl:13\n",
      " [13] dispatch_msg(x::VSCodeServer.JSONRPC.JSONRPCEndpoint{Base.PipeEndpoint, Base.PipeEndpoint}, dispatcher::VSCodeServer.JSONRPC.MsgDispatcher, msg::Dict{String, Any})\n",
      "    @ VSCodeServer.JSONRPC c:\\Users\\YASH RAJ\\.vscode\\extensions\\julialang.language-julia-1.6.17\\scripts\\packages\\JSONRPC\\src\\typed.jl:67\n",
      " [14] serve_notebook(pipename::String, outputchannel_logger::Base.CoreLogging.SimpleLogger; crashreporting_pipename::String)\n",
      "    @ VSCodeServer c:\\Users\\YASH RAJ\\.vscode\\extensions\\julialang.language-julia-1.6.17\\scripts\\packages\\VSCodeServer\\src\\serve_notebook.jl:136\n",
      " [15] top-level scope\n",
      "    @ c:\\Users\\YASH RAJ\\.vscode\\extensions\\julialang.language-julia-1.6.17\\scripts\\notebook\\notebook.jl:32\n",
      " [16] include(mod::Module, _path::String)\n",
      "    @ Base .\\Base.jl:418\n",
      " [17] exec_options(opts::Base.JLOptions)\n",
      "    @ Base .\\client.jl:292\n",
      " [18] _start()\n",
      "    @ Base .\\client.jl:495"
     ]
    }
   ],
   "source": [
    "density_plots=[] \n",
    "acf_plots=[]\n",
    "trace_plots=[]\n",
    "for i in 1:p\n",
    "    # p1=plot(density(ans[:,i],color=4,label=\"\"))\n",
    "    p2=plot(ans[:,i],color=4,label=\"\")\n",
    "    # p3=plot(autocor(ans[:,i]),color=4,label=\"\")\n",
    "    # push!(density_plots,p1)\n",
    "    # push!(acf_plots,p3)\n",
    "    push!(trace_plots,p2)\n",
    "end"
   ]
  }
 ],
 "metadata": {
  "kernelspec": {
   "display_name": "Julia 1.7.2",
   "language": "julia",
   "name": "julia-1.7"
  },
  "language_info": {
   "file_extension": ".jl",
   "mimetype": "application/julia",
   "name": "julia",
   "version": "1.7.2"
  }
 },
 "nbformat": 4,
 "nbformat_minor": 5
}
